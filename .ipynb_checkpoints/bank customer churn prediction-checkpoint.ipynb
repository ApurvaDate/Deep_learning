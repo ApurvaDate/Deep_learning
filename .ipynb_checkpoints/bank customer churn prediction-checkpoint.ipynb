{
 "cells": [
  {
   "cell_type": "code",
   "execution_count": 1,
   "id": "eedf7862",
   "metadata": {},
   "outputs": [],
   "source": [
    "import numpy as np\n",
    "import pandas as pd\n",
    "import matplotlib.pyplot as plt\n",
    "#there are total 13 features\n",
    "#exited is the target column"
   ]
  },
  {
   "cell_type": "markdown",
   "id": "dfc10ee9",
   "metadata": {},
   "source": [
    "we have to predict whether customer in the bank will be exiting or not"
   ]
  },
  {
   "cell_type": "code",
   "execution_count": 2,
   "id": "3f878132",
   "metadata": {},
   "outputs": [
    {
     "data": {
      "text/html": [
       "<div>\n",
       "<style scoped>\n",
       "    .dataframe tbody tr th:only-of-type {\n",
       "        vertical-align: middle;\n",
       "    }\n",
       "\n",
       "    .dataframe tbody tr th {\n",
       "        vertical-align: top;\n",
       "    }\n",
       "\n",
       "    .dataframe thead th {\n",
       "        text-align: right;\n",
       "    }\n",
       "</style>\n",
       "<table border=\"1\" class=\"dataframe\">\n",
       "  <thead>\n",
       "    <tr style=\"text-align: right;\">\n",
       "      <th></th>\n",
       "      <th>RowNumber</th>\n",
       "      <th>CustomerId</th>\n",
       "      <th>Surname</th>\n",
       "      <th>CreditScore</th>\n",
       "      <th>Geography</th>\n",
       "      <th>Gender</th>\n",
       "      <th>Age</th>\n",
       "      <th>Tenure</th>\n",
       "      <th>Balance</th>\n",
       "      <th>NumOfProducts</th>\n",
       "      <th>HasCrCard</th>\n",
       "      <th>IsActiveMember</th>\n",
       "      <th>EstimatedSalary</th>\n",
       "      <th>Exited</th>\n",
       "    </tr>\n",
       "  </thead>\n",
       "  <tbody>\n",
       "    <tr>\n",
       "      <th>0</th>\n",
       "      <td>1</td>\n",
       "      <td>15634602</td>\n",
       "      <td>Hargrave</td>\n",
       "      <td>619</td>\n",
       "      <td>France</td>\n",
       "      <td>Female</td>\n",
       "      <td>42</td>\n",
       "      <td>2</td>\n",
       "      <td>0.00</td>\n",
       "      <td>1</td>\n",
       "      <td>1</td>\n",
       "      <td>1</td>\n",
       "      <td>101348.88</td>\n",
       "      <td>1</td>\n",
       "    </tr>\n",
       "    <tr>\n",
       "      <th>1</th>\n",
       "      <td>2</td>\n",
       "      <td>15647311</td>\n",
       "      <td>Hill</td>\n",
       "      <td>608</td>\n",
       "      <td>Spain</td>\n",
       "      <td>Female</td>\n",
       "      <td>41</td>\n",
       "      <td>1</td>\n",
       "      <td>83807.86</td>\n",
       "      <td>1</td>\n",
       "      <td>0</td>\n",
       "      <td>1</td>\n",
       "      <td>112542.58</td>\n",
       "      <td>0</td>\n",
       "    </tr>\n",
       "    <tr>\n",
       "      <th>2</th>\n",
       "      <td>3</td>\n",
       "      <td>15619304</td>\n",
       "      <td>Onio</td>\n",
       "      <td>502</td>\n",
       "      <td>France</td>\n",
       "      <td>Female</td>\n",
       "      <td>42</td>\n",
       "      <td>8</td>\n",
       "      <td>159660.80</td>\n",
       "      <td>3</td>\n",
       "      <td>1</td>\n",
       "      <td>0</td>\n",
       "      <td>113931.57</td>\n",
       "      <td>1</td>\n",
       "    </tr>\n",
       "    <tr>\n",
       "      <th>3</th>\n",
       "      <td>4</td>\n",
       "      <td>15701354</td>\n",
       "      <td>Boni</td>\n",
       "      <td>699</td>\n",
       "      <td>France</td>\n",
       "      <td>Female</td>\n",
       "      <td>39</td>\n",
       "      <td>1</td>\n",
       "      <td>0.00</td>\n",
       "      <td>2</td>\n",
       "      <td>0</td>\n",
       "      <td>0</td>\n",
       "      <td>93826.63</td>\n",
       "      <td>0</td>\n",
       "    </tr>\n",
       "    <tr>\n",
       "      <th>4</th>\n",
       "      <td>5</td>\n",
       "      <td>15737888</td>\n",
       "      <td>Mitchell</td>\n",
       "      <td>850</td>\n",
       "      <td>Spain</td>\n",
       "      <td>Female</td>\n",
       "      <td>43</td>\n",
       "      <td>2</td>\n",
       "      <td>125510.82</td>\n",
       "      <td>1</td>\n",
       "      <td>1</td>\n",
       "      <td>1</td>\n",
       "      <td>79084.10</td>\n",
       "      <td>0</td>\n",
       "    </tr>\n",
       "  </tbody>\n",
       "</table>\n",
       "</div>"
      ],
      "text/plain": [
       "   RowNumber  CustomerId   Surname  CreditScore Geography  Gender  Age  \\\n",
       "0          1    15634602  Hargrave          619    France  Female   42   \n",
       "1          2    15647311      Hill          608     Spain  Female   41   \n",
       "2          3    15619304      Onio          502    France  Female   42   \n",
       "3          4    15701354      Boni          699    France  Female   39   \n",
       "4          5    15737888  Mitchell          850     Spain  Female   43   \n",
       "\n",
       "   Tenure    Balance  NumOfProducts  HasCrCard  IsActiveMember  \\\n",
       "0       2       0.00              1          1               1   \n",
       "1       1   83807.86              1          0               1   \n",
       "2       8  159660.80              3          1               0   \n",
       "3       1       0.00              2          0               0   \n",
       "4       2  125510.82              1          1               1   \n",
       "\n",
       "   EstimatedSalary  Exited  \n",
       "0        101348.88       1  \n",
       "1        112542.58       0  \n",
       "2        113931.57       1  \n",
       "3         93826.63       0  \n",
       "4         79084.10       0  "
      ]
     },
     "execution_count": 2,
     "metadata": {},
     "output_type": "execute_result"
    }
   ],
   "source": [
    "#importing the dataset\n",
    "dataset = pd.read_csv(\"Churn_Modelling.csv\")\n",
    "dataset.head()"
   ]
  },
  {
   "cell_type": "code",
   "execution_count": 3,
   "id": "c6a81442",
   "metadata": {},
   "outputs": [
    {
     "data": {
      "text/plain": [
       "(10000, 14)"
      ]
     },
     "execution_count": 3,
     "metadata": {},
     "output_type": "execute_result"
    }
   ],
   "source": [
    "dataset.shape"
   ]
  },
  {
   "cell_type": "markdown",
   "id": "6fa7d671",
   "metadata": {},
   "source": [
    "#### Data preprocessing"
   ]
  },
  {
   "cell_type": "code",
   "execution_count": 4,
   "id": "38a5ce18",
   "metadata": {},
   "outputs": [],
   "source": [
    "#we will be using independent features from CreditScore to Estimated salary \n",
    "#Exited will be the target variable"
   ]
  },
  {
   "cell_type": "code",
   "execution_count": 5,
   "id": "f75811c6",
   "metadata": {},
   "outputs": [],
   "source": [
    "X = dataset.iloc[:,3:13]\n",
    "y = dataset.iloc[:,13]"
   ]
  },
  {
   "cell_type": "code",
   "execution_count": 6,
   "id": "64fcf795",
   "metadata": {},
   "outputs": [],
   "source": [
    "#create dummy variables\n",
    "geography = pd.get_dummies(X['Geography'],drop_first=True)\n",
    "gender = pd.get_dummies(X['Gender'],drop_first=True)"
   ]
  },
  {
   "cell_type": "code",
   "execution_count": 7,
   "id": "73be2d2b",
   "metadata": {},
   "outputs": [
    {
     "data": {
      "text/html": [
       "<div>\n",
       "<style scoped>\n",
       "    .dataframe tbody tr th:only-of-type {\n",
       "        vertical-align: middle;\n",
       "    }\n",
       "\n",
       "    .dataframe tbody tr th {\n",
       "        vertical-align: top;\n",
       "    }\n",
       "\n",
       "    .dataframe thead th {\n",
       "        text-align: right;\n",
       "    }\n",
       "</style>\n",
       "<table border=\"1\" class=\"dataframe\">\n",
       "  <thead>\n",
       "    <tr style=\"text-align: right;\">\n",
       "      <th></th>\n",
       "      <th>CreditScore</th>\n",
       "      <th>Geography</th>\n",
       "      <th>Gender</th>\n",
       "      <th>Age</th>\n",
       "      <th>Tenure</th>\n",
       "      <th>Balance</th>\n",
       "      <th>NumOfProducts</th>\n",
       "      <th>HasCrCard</th>\n",
       "      <th>IsActiveMember</th>\n",
       "      <th>EstimatedSalary</th>\n",
       "      <th>Germany</th>\n",
       "      <th>Spain</th>\n",
       "      <th>Male</th>\n",
       "    </tr>\n",
       "  </thead>\n",
       "  <tbody>\n",
       "    <tr>\n",
       "      <th>0</th>\n",
       "      <td>619</td>\n",
       "      <td>France</td>\n",
       "      <td>Female</td>\n",
       "      <td>42</td>\n",
       "      <td>2</td>\n",
       "      <td>0.00</td>\n",
       "      <td>1</td>\n",
       "      <td>1</td>\n",
       "      <td>1</td>\n",
       "      <td>101348.88</td>\n",
       "      <td>0</td>\n",
       "      <td>0</td>\n",
       "      <td>0</td>\n",
       "    </tr>\n",
       "    <tr>\n",
       "      <th>1</th>\n",
       "      <td>608</td>\n",
       "      <td>Spain</td>\n",
       "      <td>Female</td>\n",
       "      <td>41</td>\n",
       "      <td>1</td>\n",
       "      <td>83807.86</td>\n",
       "      <td>1</td>\n",
       "      <td>0</td>\n",
       "      <td>1</td>\n",
       "      <td>112542.58</td>\n",
       "      <td>0</td>\n",
       "      <td>1</td>\n",
       "      <td>0</td>\n",
       "    </tr>\n",
       "    <tr>\n",
       "      <th>2</th>\n",
       "      <td>502</td>\n",
       "      <td>France</td>\n",
       "      <td>Female</td>\n",
       "      <td>42</td>\n",
       "      <td>8</td>\n",
       "      <td>159660.80</td>\n",
       "      <td>3</td>\n",
       "      <td>1</td>\n",
       "      <td>0</td>\n",
       "      <td>113931.57</td>\n",
       "      <td>0</td>\n",
       "      <td>0</td>\n",
       "      <td>0</td>\n",
       "    </tr>\n",
       "    <tr>\n",
       "      <th>3</th>\n",
       "      <td>699</td>\n",
       "      <td>France</td>\n",
       "      <td>Female</td>\n",
       "      <td>39</td>\n",
       "      <td>1</td>\n",
       "      <td>0.00</td>\n",
       "      <td>2</td>\n",
       "      <td>0</td>\n",
       "      <td>0</td>\n",
       "      <td>93826.63</td>\n",
       "      <td>0</td>\n",
       "      <td>0</td>\n",
       "      <td>0</td>\n",
       "    </tr>\n",
       "    <tr>\n",
       "      <th>4</th>\n",
       "      <td>850</td>\n",
       "      <td>Spain</td>\n",
       "      <td>Female</td>\n",
       "      <td>43</td>\n",
       "      <td>2</td>\n",
       "      <td>125510.82</td>\n",
       "      <td>1</td>\n",
       "      <td>1</td>\n",
       "      <td>1</td>\n",
       "      <td>79084.10</td>\n",
       "      <td>0</td>\n",
       "      <td>1</td>\n",
       "      <td>0</td>\n",
       "    </tr>\n",
       "  </tbody>\n",
       "</table>\n",
       "</div>"
      ],
      "text/plain": [
       "   CreditScore Geography  Gender  Age  Tenure    Balance  NumOfProducts  \\\n",
       "0          619    France  Female   42       2       0.00              1   \n",
       "1          608     Spain  Female   41       1   83807.86              1   \n",
       "2          502    France  Female   42       8  159660.80              3   \n",
       "3          699    France  Female   39       1       0.00              2   \n",
       "4          850     Spain  Female   43       2  125510.82              1   \n",
       "\n",
       "   HasCrCard  IsActiveMember  EstimatedSalary  Germany  Spain  Male  \n",
       "0          1               1        101348.88        0      0     0  \n",
       "1          0               1        112542.58        0      1     0  \n",
       "2          1               0        113931.57        0      0     0  \n",
       "3          0               0         93826.63        0      0     0  \n",
       "4          1               1         79084.10        0      1     0  "
      ]
     },
     "execution_count": 7,
     "metadata": {},
     "output_type": "execute_result"
    }
   ],
   "source": [
    "#concatenate the dataframes\n",
    "X = pd.concat([X,geography,gender],axis=1)\n",
    "X.head()"
   ]
  },
  {
   "cell_type": "code",
   "execution_count": 8,
   "id": "fa31581d",
   "metadata": {},
   "outputs": [
    {
     "data": {
      "text/html": [
       "<div>\n",
       "<style scoped>\n",
       "    .dataframe tbody tr th:only-of-type {\n",
       "        vertical-align: middle;\n",
       "    }\n",
       "\n",
       "    .dataframe tbody tr th {\n",
       "        vertical-align: top;\n",
       "    }\n",
       "\n",
       "    .dataframe thead th {\n",
       "        text-align: right;\n",
       "    }\n",
       "</style>\n",
       "<table border=\"1\" class=\"dataframe\">\n",
       "  <thead>\n",
       "    <tr style=\"text-align: right;\">\n",
       "      <th></th>\n",
       "      <th>CreditScore</th>\n",
       "      <th>Age</th>\n",
       "      <th>Tenure</th>\n",
       "      <th>Balance</th>\n",
       "      <th>NumOfProducts</th>\n",
       "      <th>HasCrCard</th>\n",
       "      <th>IsActiveMember</th>\n",
       "      <th>EstimatedSalary</th>\n",
       "      <th>Germany</th>\n",
       "      <th>Spain</th>\n",
       "      <th>Male</th>\n",
       "    </tr>\n",
       "  </thead>\n",
       "  <tbody>\n",
       "    <tr>\n",
       "      <th>0</th>\n",
       "      <td>619</td>\n",
       "      <td>42</td>\n",
       "      <td>2</td>\n",
       "      <td>0.00</td>\n",
       "      <td>1</td>\n",
       "      <td>1</td>\n",
       "      <td>1</td>\n",
       "      <td>101348.88</td>\n",
       "      <td>0</td>\n",
       "      <td>0</td>\n",
       "      <td>0</td>\n",
       "    </tr>\n",
       "    <tr>\n",
       "      <th>1</th>\n",
       "      <td>608</td>\n",
       "      <td>41</td>\n",
       "      <td>1</td>\n",
       "      <td>83807.86</td>\n",
       "      <td>1</td>\n",
       "      <td>0</td>\n",
       "      <td>1</td>\n",
       "      <td>112542.58</td>\n",
       "      <td>0</td>\n",
       "      <td>1</td>\n",
       "      <td>0</td>\n",
       "    </tr>\n",
       "    <tr>\n",
       "      <th>2</th>\n",
       "      <td>502</td>\n",
       "      <td>42</td>\n",
       "      <td>8</td>\n",
       "      <td>159660.80</td>\n",
       "      <td>3</td>\n",
       "      <td>1</td>\n",
       "      <td>0</td>\n",
       "      <td>113931.57</td>\n",
       "      <td>0</td>\n",
       "      <td>0</td>\n",
       "      <td>0</td>\n",
       "    </tr>\n",
       "    <tr>\n",
       "      <th>3</th>\n",
       "      <td>699</td>\n",
       "      <td>39</td>\n",
       "      <td>1</td>\n",
       "      <td>0.00</td>\n",
       "      <td>2</td>\n",
       "      <td>0</td>\n",
       "      <td>0</td>\n",
       "      <td>93826.63</td>\n",
       "      <td>0</td>\n",
       "      <td>0</td>\n",
       "      <td>0</td>\n",
       "    </tr>\n",
       "    <tr>\n",
       "      <th>4</th>\n",
       "      <td>850</td>\n",
       "      <td>43</td>\n",
       "      <td>2</td>\n",
       "      <td>125510.82</td>\n",
       "      <td>1</td>\n",
       "      <td>1</td>\n",
       "      <td>1</td>\n",
       "      <td>79084.10</td>\n",
       "      <td>0</td>\n",
       "      <td>1</td>\n",
       "      <td>0</td>\n",
       "    </tr>\n",
       "  </tbody>\n",
       "</table>\n",
       "</div>"
      ],
      "text/plain": [
       "   CreditScore  Age  Tenure    Balance  NumOfProducts  HasCrCard  \\\n",
       "0          619   42       2       0.00              1          1   \n",
       "1          608   41       1   83807.86              1          0   \n",
       "2          502   42       8  159660.80              3          1   \n",
       "3          699   39       1       0.00              2          0   \n",
       "4          850   43       2  125510.82              1          1   \n",
       "\n",
       "   IsActiveMember  EstimatedSalary  Germany  Spain  Male  \n",
       "0               1        101348.88        0      0     0  \n",
       "1               1        112542.58        0      1     0  \n",
       "2               0        113931.57        0      0     0  \n",
       "3               0         93826.63        0      0     0  \n",
       "4               1         79084.10        0      1     0  "
      ]
     },
     "execution_count": 8,
     "metadata": {},
     "output_type": "execute_result"
    }
   ],
   "source": [
    "#drop unnecessary columns\n",
    "X = X.drop(['Geography','Gender'],axis=1)\n",
    "X.head()"
   ]
  },
  {
   "cell_type": "code",
   "execution_count": 9,
   "id": "68636a88",
   "metadata": {},
   "outputs": [],
   "source": [
    "#splitting the dataset into training and test data\n",
    "from sklearn.model_selection import train_test_split\n",
    "X_train, X_test, y_train, y_test = train_test_split(X,y,test_size=0.2, random_state=0)"
   ]
  },
  {
   "cell_type": "code",
   "execution_count": 10,
   "id": "524013c6",
   "metadata": {},
   "outputs": [
    {
     "name": "stdout",
     "output_type": "stream",
     "text": [
      "(8000, 11)\n",
      "(2000, 11)\n",
      "(8000,)\n",
      "(2000,)\n"
     ]
    }
   ],
   "source": [
    "print(X_train.shape)\n",
    "print(X_test.shape)\n",
    "print(y_train.shape)\n",
    "print(y_test.shape)"
   ]
  },
  {
   "cell_type": "code",
   "execution_count": 11,
   "id": "e7c52458",
   "metadata": {},
   "outputs": [],
   "source": [
    "#Feature scaling\n",
    "from sklearn.preprocessing import StandardScaler\n",
    "sc= StandardScaler()\n",
    "X_train = sc.fit_transform(X_train)\n",
    "X_test = sc.fit_transform(X_test)"
   ]
  },
  {
   "cell_type": "markdown",
   "id": "350aecb9",
   "metadata": {},
   "source": [
    "#### to create an ANN"
   ]
  },
  {
   "cell_type": "code",
   "execution_count": 12,
   "id": "32078cef",
   "metadata": {},
   "outputs": [],
   "source": [
    "#import keras libraries and packages\n",
    "import keras\n",
    "from keras.models import Sequential\n",
    "from keras.layers import Dense\n",
    "# from keras.layers import LeakyReLU, PReLU, ELU\n",
    "from keras.layers import Dropout\n",
    "#here tensorflow will be used as a backend\n",
    "#tensorflow is an open source platform for machine learning, it can be used to create and deploy\n",
    "# various types of machine learning models for different applications such as computer vision, nlp, \n",
    "# recommender system and more."
   ]
  },
  {
   "cell_type": "code",
   "execution_count": 13,
   "id": "5e9b6419",
   "metadata": {},
   "outputs": [],
   "source": [
    "#initialising the ANN\n",
    "classifier = Sequential() #this is an empty neural network"
   ]
  },
  {
   "cell_type": "code",
   "execution_count": 14,
   "id": "38f6be87",
   "metadata": {},
   "outputs": [],
   "source": [
    "#adding the first input layer and first hidden layer\n",
    "# classifier.add(Dense(output_dim = 6, init = \"he_uniform\", activation = \"relu\", input_dim = 11))\n",
    "#now output_dim has changed to units, init changed to kernel_initializer\n",
    "classifier.add(Dense(units = 10, kernel_initializer = \"he_normal\", activation = \"relu\", input_dim = 11)) \n",
    "#here we are giving input_dim as 11 because we are using 11 features as an input\n",
    "#adding a dropout layer\n",
    "classifier.add(Dropout(0.3)) #while creating deep neural network with some ratio"
   ]
  },
  {
   "cell_type": "code",
   "execution_count": 15,
   "id": "ef595240",
   "metadata": {},
   "outputs": [],
   "source": [
    "#adding the second hidden layer\n",
    "classifier.add(Dense(units = 20, kernel_initializer = \"he_normal\", activation = \"relu\"))\n",
    "classifier.add(Dropout(0.4))"
   ]
  },
  {
   "cell_type": "code",
   "execution_count": 16,
   "id": "59e79066",
   "metadata": {},
   "outputs": [],
   "source": [
    "#adding the third hidden layer\n",
    "classifier.add(Dense(units = 15, kernel_initializer = \"he_normal\", activation = \"relu\"))\n",
    "classifier.add(Dropout(0.2))"
   ]
  },
  {
   "cell_type": "code",
   "execution_count": 17,
   "id": "0d420bb9",
   "metadata": {},
   "outputs": [],
   "source": [
    "#adding the ouput layer\n",
    "classifier.add(Dense(units = 1, kernel_initializer = \"glorot_uniform\", activation = \"sigmoid\")) \n",
    "#as this is a binary classification we need only one output neuron that is units=1"
   ]
  },
  {
   "cell_type": "markdown",
   "id": "834a53e7",
   "metadata": {},
   "source": [
    "#### all hidden layers must have relu of leaky relu activation functions"
   ]
  },
  {
   "cell_type": "markdown",
   "id": "7b017c21",
   "metadata": {},
   "source": [
    "#### relu prevents vanishing gradient problem"
   ]
  },
  {
   "cell_type": "code",
   "execution_count": 18,
   "id": "9eb71302",
   "metadata": {},
   "outputs": [
    {
     "name": "stdout",
     "output_type": "stream",
     "text": [
      "Model: \"sequential\"\n",
      "_________________________________________________________________\n",
      " Layer (type)                Output Shape              Param #   \n",
      "=================================================================\n",
      " dense (Dense)               (None, 10)                120       \n",
      "                                                                 \n",
      " dropout (Dropout)           (None, 10)                0         \n",
      "                                                                 \n",
      " dense_1 (Dense)             (None, 20)                220       \n",
      "                                                                 \n",
      " dropout_1 (Dropout)         (None, 20)                0         \n",
      "                                                                 \n",
      " dense_2 (Dense)             (None, 15)                315       \n",
      "                                                                 \n",
      " dropout_2 (Dropout)         (None, 15)                0         \n",
      "                                                                 \n",
      " dense_3 (Dense)             (None, 1)                 16        \n",
      "                                                                 \n",
      "=================================================================\n",
      "Total params: 671 (2.62 KB)\n",
      "Trainable params: 671 (2.62 KB)\n",
      "Non-trainable params: 0 (0.00 Byte)\n",
      "_________________________________________________________________\n"
     ]
    }
   ],
   "source": [
    "classifier.summary()"
   ]
  },
  {
   "cell_type": "code",
   "execution_count": 19,
   "id": "30f8bc49",
   "metadata": {},
   "outputs": [],
   "source": [
    "#compiling the ANN\n",
    "classifier.compile(optimizer= \"adam\",loss= \"binary_crossentropy\", metrics= ['accuracy'])"
   ]
  },
  {
   "cell_type": "code",
   "execution_count": 20,
   "id": "f43a22a8",
   "metadata": {
    "scrolled": true
   },
   "outputs": [
    {
     "name": "stdout",
     "output_type": "stream",
     "text": [
      "Epoch 1/100\n",
      "536/536 [==============================] - 5s 5ms/step - loss: 0.6129 - accuracy: 0.7371 - val_loss: 0.4930 - val_accuracy: 0.7955\n",
      "Epoch 2/100\n",
      "536/536 [==============================] - 2s 4ms/step - loss: 0.5151 - accuracy: 0.7895 - val_loss: 0.4758 - val_accuracy: 0.7955\n",
      "Epoch 3/100\n",
      "536/536 [==============================] - 2s 4ms/step - loss: 0.4954 - accuracy: 0.7925 - val_loss: 0.4649 - val_accuracy: 0.7955\n",
      "Epoch 4/100\n",
      "536/536 [==============================] - 2s 4ms/step - loss: 0.4816 - accuracy: 0.7964 - val_loss: 0.4520 - val_accuracy: 0.7963\n",
      "Epoch 5/100\n",
      "536/536 [==============================] - 2s 4ms/step - loss: 0.4674 - accuracy: 0.7968 - val_loss: 0.4457 - val_accuracy: 0.7982\n",
      "Epoch 6/100\n",
      "536/536 [==============================] - 2s 4ms/step - loss: 0.4572 - accuracy: 0.8009 - val_loss: 0.4387 - val_accuracy: 0.7974\n",
      "Epoch 7/100\n",
      "536/536 [==============================] - 2s 4ms/step - loss: 0.4540 - accuracy: 0.7974 - val_loss: 0.4382 - val_accuracy: 0.7986\n",
      "Epoch 8/100\n",
      "536/536 [==============================] - 2s 4ms/step - loss: 0.4464 - accuracy: 0.8037 - val_loss: 0.4357 - val_accuracy: 0.7989\n",
      "Epoch 9/100\n",
      "536/536 [==============================] - 2s 4ms/step - loss: 0.4472 - accuracy: 0.8087 - val_loss: 0.4361 - val_accuracy: 0.8027\n",
      "Epoch 10/100\n",
      "536/536 [==============================] - 2s 4ms/step - loss: 0.4438 - accuracy: 0.8033 - val_loss: 0.4330 - val_accuracy: 0.7959\n",
      "Epoch 11/100\n",
      "536/536 [==============================] - 2s 4ms/step - loss: 0.4426 - accuracy: 0.8080 - val_loss: 0.4294 - val_accuracy: 0.8088\n",
      "Epoch 12/100\n",
      "536/536 [==============================] - 2s 4ms/step - loss: 0.4450 - accuracy: 0.8063 - val_loss: 0.4283 - val_accuracy: 0.8069\n",
      "Epoch 13/100\n",
      "536/536 [==============================] - 2s 4ms/step - loss: 0.4328 - accuracy: 0.8117 - val_loss: 0.4274 - val_accuracy: 0.8035\n",
      "Epoch 14/100\n",
      "536/536 [==============================] - 2s 4ms/step - loss: 0.4332 - accuracy: 0.8093 - val_loss: 0.4259 - val_accuracy: 0.8061\n",
      "Epoch 15/100\n",
      "536/536 [==============================] - 2s 4ms/step - loss: 0.4323 - accuracy: 0.8112 - val_loss: 0.4252 - val_accuracy: 0.8012\n",
      "Epoch 16/100\n",
      "536/536 [==============================] - 2s 4ms/step - loss: 0.4213 - accuracy: 0.8162 - val_loss: 0.4186 - val_accuracy: 0.8107\n",
      "Epoch 17/100\n",
      "536/536 [==============================] - 2s 4ms/step - loss: 0.4238 - accuracy: 0.8134 - val_loss: 0.4194 - val_accuracy: 0.8076\n",
      "Epoch 18/100\n",
      "536/536 [==============================] - 2s 3ms/step - loss: 0.4227 - accuracy: 0.8156 - val_loss: 0.4172 - val_accuracy: 0.8076\n",
      "Epoch 19/100\n",
      "536/536 [==============================] - 2s 4ms/step - loss: 0.4196 - accuracy: 0.8141 - val_loss: 0.4134 - val_accuracy: 0.8114\n",
      "Epoch 20/100\n",
      "536/536 [==============================] - 2s 4ms/step - loss: 0.4225 - accuracy: 0.8173 - val_loss: 0.4122 - val_accuracy: 0.8152\n",
      "Epoch 21/100\n",
      "536/536 [==============================] - 2s 4ms/step - loss: 0.4161 - accuracy: 0.8192 - val_loss: 0.4098 - val_accuracy: 0.8220\n",
      "Epoch 22/100\n",
      "536/536 [==============================] - 2s 4ms/step - loss: 0.4198 - accuracy: 0.8188 - val_loss: 0.4155 - val_accuracy: 0.8027\n",
      "Epoch 23/100\n",
      "536/536 [==============================] - 2s 4ms/step - loss: 0.4103 - accuracy: 0.8278 - val_loss: 0.4050 - val_accuracy: 0.8213\n",
      "Epoch 24/100\n",
      "536/536 [==============================] - 3s 5ms/step - loss: 0.4066 - accuracy: 0.8263 - val_loss: 0.3971 - val_accuracy: 0.8285\n",
      "Epoch 25/100\n",
      "536/536 [==============================] - 2s 4ms/step - loss: 0.4024 - accuracy: 0.8289 - val_loss: 0.3945 - val_accuracy: 0.8266\n",
      "Epoch 26/100\n",
      "536/536 [==============================] - 2s 4ms/step - loss: 0.4018 - accuracy: 0.8324 - val_loss: 0.3958 - val_accuracy: 0.8205\n",
      "Epoch 27/100\n",
      "536/536 [==============================] - 2s 5ms/step - loss: 0.3951 - accuracy: 0.8328 - val_loss: 0.3878 - val_accuracy: 0.8311\n",
      "Epoch 28/100\n",
      "536/536 [==============================] - 2s 5ms/step - loss: 0.3978 - accuracy: 0.8343 - val_loss: 0.3893 - val_accuracy: 0.8213\n",
      "Epoch 29/100\n",
      "536/536 [==============================] - 2s 4ms/step - loss: 0.3978 - accuracy: 0.8283 - val_loss: 0.3876 - val_accuracy: 0.8307\n",
      "Epoch 30/100\n",
      "536/536 [==============================] - 2s 4ms/step - loss: 0.3940 - accuracy: 0.8326 - val_loss: 0.3872 - val_accuracy: 0.8239\n",
      "Epoch 31/100\n",
      "536/536 [==============================] - 2s 4ms/step - loss: 0.3916 - accuracy: 0.8354 - val_loss: 0.3831 - val_accuracy: 0.8323\n",
      "Epoch 32/100\n",
      "536/536 [==============================] - 2s 4ms/step - loss: 0.3900 - accuracy: 0.8358 - val_loss: 0.3872 - val_accuracy: 0.8228\n",
      "Epoch 33/100\n",
      "536/536 [==============================] - 2s 4ms/step - loss: 0.3903 - accuracy: 0.8360 - val_loss: 0.3843 - val_accuracy: 0.8296\n",
      "Epoch 34/100\n",
      "536/536 [==============================] - 2s 4ms/step - loss: 0.3892 - accuracy: 0.8373 - val_loss: 0.3866 - val_accuracy: 0.8243\n",
      "Epoch 35/100\n",
      "536/536 [==============================] - 2s 4ms/step - loss: 0.3883 - accuracy: 0.8354 - val_loss: 0.3795 - val_accuracy: 0.8349\n",
      "Epoch 36/100\n",
      "536/536 [==============================] - 2s 4ms/step - loss: 0.3850 - accuracy: 0.8356 - val_loss: 0.3838 - val_accuracy: 0.8262\n",
      "Epoch 37/100\n",
      "536/536 [==============================] - 2s 4ms/step - loss: 0.3925 - accuracy: 0.8364 - val_loss: 0.3900 - val_accuracy: 0.8201\n",
      "Epoch 38/100\n",
      "536/536 [==============================] - 2s 4ms/step - loss: 0.3797 - accuracy: 0.8403 - val_loss: 0.3841 - val_accuracy: 0.8262\n",
      "Epoch 39/100\n",
      "536/536 [==============================] - 2s 4ms/step - loss: 0.3932 - accuracy: 0.8364 - val_loss: 0.3873 - val_accuracy: 0.8311\n",
      "Epoch 40/100\n",
      "536/536 [==============================] - 2s 4ms/step - loss: 0.3890 - accuracy: 0.8382 - val_loss: 0.3863 - val_accuracy: 0.8285\n",
      "Epoch 41/100\n",
      "536/536 [==============================] - 2s 4ms/step - loss: 0.3854 - accuracy: 0.8367 - val_loss: 0.3815 - val_accuracy: 0.8338\n",
      "Epoch 42/100\n",
      "536/536 [==============================] - 2s 4ms/step - loss: 0.3890 - accuracy: 0.8386 - val_loss: 0.3834 - val_accuracy: 0.8330\n",
      "Epoch 43/100\n",
      "536/536 [==============================] - 2s 4ms/step - loss: 0.3914 - accuracy: 0.8380 - val_loss: 0.3848 - val_accuracy: 0.8330\n",
      "Epoch 44/100\n",
      "536/536 [==============================] - 2s 4ms/step - loss: 0.3881 - accuracy: 0.8399 - val_loss: 0.3858 - val_accuracy: 0.8190\n",
      "Epoch 45/100\n",
      "536/536 [==============================] - 2s 4ms/step - loss: 0.3813 - accuracy: 0.8406 - val_loss: 0.3801 - val_accuracy: 0.8353\n",
      "Epoch 46/100\n",
      "536/536 [==============================] - 2s 4ms/step - loss: 0.3858 - accuracy: 0.8403 - val_loss: 0.3793 - val_accuracy: 0.8391\n",
      "Epoch 47/100\n",
      "536/536 [==============================] - 2s 4ms/step - loss: 0.3800 - accuracy: 0.8414 - val_loss: 0.3796 - val_accuracy: 0.8319\n",
      "Epoch 48/100\n",
      "536/536 [==============================] - 2s 4ms/step - loss: 0.3853 - accuracy: 0.8360 - val_loss: 0.3784 - val_accuracy: 0.8349\n",
      "Epoch 49/100\n",
      "536/536 [==============================] - 2s 4ms/step - loss: 0.3836 - accuracy: 0.8416 - val_loss: 0.3801 - val_accuracy: 0.8364\n",
      "Epoch 50/100\n",
      "536/536 [==============================] - 2s 4ms/step - loss: 0.3825 - accuracy: 0.8378 - val_loss: 0.3778 - val_accuracy: 0.8342\n",
      "Epoch 51/100\n",
      "536/536 [==============================] - 2s 4ms/step - loss: 0.3853 - accuracy: 0.8378 - val_loss: 0.3823 - val_accuracy: 0.8345\n",
      "Epoch 52/100\n",
      "536/536 [==============================] - 2s 4ms/step - loss: 0.3806 - accuracy: 0.8423 - val_loss: 0.3774 - val_accuracy: 0.8353\n",
      "Epoch 53/100\n",
      "536/536 [==============================] - 2s 4ms/step - loss: 0.3802 - accuracy: 0.8412 - val_loss: 0.3769 - val_accuracy: 0.8360\n",
      "Epoch 54/100\n",
      "536/536 [==============================] - 2s 4ms/step - loss: 0.3854 - accuracy: 0.8386 - val_loss: 0.3794 - val_accuracy: 0.8345\n",
      "Epoch 55/100\n",
      "536/536 [==============================] - 2s 4ms/step - loss: 0.3797 - accuracy: 0.8429 - val_loss: 0.3793 - val_accuracy: 0.8323\n",
      "Epoch 56/100\n",
      "536/536 [==============================] - 2s 4ms/step - loss: 0.3807 - accuracy: 0.8425 - val_loss: 0.3820 - val_accuracy: 0.8228\n",
      "Epoch 57/100\n",
      "536/536 [==============================] - 2s 4ms/step - loss: 0.3826 - accuracy: 0.8412 - val_loss: 0.3791 - val_accuracy: 0.8342\n"
     ]
    },
    {
     "name": "stdout",
     "output_type": "stream",
     "text": [
      "Epoch 58/100\n",
      "536/536 [==============================] - 2s 4ms/step - loss: 0.3730 - accuracy: 0.8455 - val_loss: 0.3789 - val_accuracy: 0.8315\n",
      "Epoch 59/100\n",
      "536/536 [==============================] - 2s 4ms/step - loss: 0.3753 - accuracy: 0.8434 - val_loss: 0.3780 - val_accuracy: 0.8338\n",
      "Epoch 60/100\n",
      "536/536 [==============================] - 2s 4ms/step - loss: 0.3806 - accuracy: 0.8401 - val_loss: 0.3812 - val_accuracy: 0.8311\n",
      "Epoch 61/100\n",
      "536/536 [==============================] - 2s 4ms/step - loss: 0.3765 - accuracy: 0.8425 - val_loss: 0.3835 - val_accuracy: 0.8228\n",
      "Epoch 62/100\n",
      "536/536 [==============================] - 2s 4ms/step - loss: 0.3792 - accuracy: 0.8408 - val_loss: 0.3848 - val_accuracy: 0.8164\n",
      "Epoch 63/100\n",
      "536/536 [==============================] - 2s 4ms/step - loss: 0.3797 - accuracy: 0.8470 - val_loss: 0.3792 - val_accuracy: 0.8277\n",
      "Epoch 64/100\n",
      "536/536 [==============================] - 2s 4ms/step - loss: 0.3829 - accuracy: 0.8391 - val_loss: 0.3789 - val_accuracy: 0.8319\n",
      "Epoch 65/100\n",
      "536/536 [==============================] - 3s 5ms/step - loss: 0.3776 - accuracy: 0.8418 - val_loss: 0.3757 - val_accuracy: 0.8421\n",
      "Epoch 66/100\n",
      "536/536 [==============================] - 2s 4ms/step - loss: 0.3802 - accuracy: 0.8431 - val_loss: 0.3814 - val_accuracy: 0.8273\n",
      "Epoch 67/100\n",
      "536/536 [==============================] - 2s 4ms/step - loss: 0.3817 - accuracy: 0.8429 - val_loss: 0.3788 - val_accuracy: 0.8349\n",
      "Epoch 68/100\n",
      "536/536 [==============================] - 2s 4ms/step - loss: 0.3778 - accuracy: 0.8386 - val_loss: 0.3774 - val_accuracy: 0.8364\n",
      "Epoch 69/100\n",
      "536/536 [==============================] - 2s 4ms/step - loss: 0.3740 - accuracy: 0.8442 - val_loss: 0.3747 - val_accuracy: 0.8372\n",
      "Epoch 70/100\n",
      "536/536 [==============================] - 2s 5ms/step - loss: 0.3813 - accuracy: 0.8416 - val_loss: 0.3811 - val_accuracy: 0.8266\n",
      "Epoch 71/100\n",
      "536/536 [==============================] - 2s 4ms/step - loss: 0.3737 - accuracy: 0.8446 - val_loss: 0.3738 - val_accuracy: 0.8395\n",
      "Epoch 72/100\n",
      "536/536 [==============================] - 2s 4ms/step - loss: 0.3756 - accuracy: 0.8472 - val_loss: 0.3742 - val_accuracy: 0.8372\n",
      "Epoch 73/100\n",
      "536/536 [==============================] - 2s 4ms/step - loss: 0.3810 - accuracy: 0.8438 - val_loss: 0.3753 - val_accuracy: 0.8353\n",
      "Epoch 74/100\n",
      "536/536 [==============================] - 2s 4ms/step - loss: 0.3774 - accuracy: 0.8436 - val_loss: 0.3719 - val_accuracy: 0.8406\n",
      "Epoch 75/100\n",
      "536/536 [==============================] - 2s 4ms/step - loss: 0.3751 - accuracy: 0.8455 - val_loss: 0.3753 - val_accuracy: 0.8398\n",
      "Epoch 76/100\n",
      "536/536 [==============================] - 2s 5ms/step - loss: 0.3801 - accuracy: 0.8429 - val_loss: 0.3760 - val_accuracy: 0.8368\n",
      "Epoch 77/100\n",
      "536/536 [==============================] - 2s 4ms/step - loss: 0.3728 - accuracy: 0.8494 - val_loss: 0.3718 - val_accuracy: 0.8406\n",
      "Epoch 78/100\n",
      "536/536 [==============================] - 2s 4ms/step - loss: 0.3805 - accuracy: 0.8429 - val_loss: 0.3753 - val_accuracy: 0.8372\n",
      "Epoch 79/100\n",
      "536/536 [==============================] - 2s 4ms/step - loss: 0.3740 - accuracy: 0.8459 - val_loss: 0.3749 - val_accuracy: 0.8364\n",
      "Epoch 80/100\n",
      "536/536 [==============================] - 2s 4ms/step - loss: 0.3732 - accuracy: 0.8449 - val_loss: 0.3697 - val_accuracy: 0.8425\n",
      "Epoch 81/100\n",
      "536/536 [==============================] - 2s 4ms/step - loss: 0.3725 - accuracy: 0.8481 - val_loss: 0.3726 - val_accuracy: 0.8395\n",
      "Epoch 82/100\n",
      "536/536 [==============================] - 2s 4ms/step - loss: 0.3793 - accuracy: 0.8406 - val_loss: 0.3725 - val_accuracy: 0.8413\n",
      "Epoch 83/100\n",
      "536/536 [==============================] - 2s 4ms/step - loss: 0.3695 - accuracy: 0.8489 - val_loss: 0.3686 - val_accuracy: 0.8398\n",
      "Epoch 84/100\n",
      "536/536 [==============================] - 2s 4ms/step - loss: 0.3737 - accuracy: 0.8474 - val_loss: 0.3736 - val_accuracy: 0.8376\n",
      "Epoch 85/100\n",
      "536/536 [==============================] - 2s 4ms/step - loss: 0.3705 - accuracy: 0.8481 - val_loss: 0.3730 - val_accuracy: 0.8376\n",
      "Epoch 86/100\n",
      "536/536 [==============================] - 2s 4ms/step - loss: 0.3680 - accuracy: 0.8496 - val_loss: 0.3692 - val_accuracy: 0.8421\n",
      "Epoch 87/100\n",
      "536/536 [==============================] - 2s 4ms/step - loss: 0.3744 - accuracy: 0.8446 - val_loss: 0.3701 - val_accuracy: 0.8455\n",
      "Epoch 88/100\n",
      "536/536 [==============================] - 2s 4ms/step - loss: 0.3697 - accuracy: 0.8475 - val_loss: 0.3691 - val_accuracy: 0.8413\n",
      "Epoch 89/100\n",
      "536/536 [==============================] - 2s 4ms/step - loss: 0.3717 - accuracy: 0.8421 - val_loss: 0.3721 - val_accuracy: 0.8387\n",
      "Epoch 90/100\n",
      "536/536 [==============================] - 2s 4ms/step - loss: 0.3692 - accuracy: 0.8457 - val_loss: 0.3683 - val_accuracy: 0.8417\n",
      "Epoch 91/100\n",
      "536/536 [==============================] - 2s 4ms/step - loss: 0.3744 - accuracy: 0.8466 - val_loss: 0.3703 - val_accuracy: 0.8402\n",
      "Epoch 92/100\n",
      "536/536 [==============================] - 2s 4ms/step - loss: 0.3677 - accuracy: 0.8461 - val_loss: 0.3667 - val_accuracy: 0.8421\n",
      "Epoch 93/100\n",
      "536/536 [==============================] - 2s 5ms/step - loss: 0.3712 - accuracy: 0.8462 - val_loss: 0.3718 - val_accuracy: 0.8360\n",
      "Epoch 94/100\n",
      "536/536 [==============================] - 2s 4ms/step - loss: 0.3708 - accuracy: 0.8498 - val_loss: 0.3680 - val_accuracy: 0.8463\n",
      "Epoch 95/100\n",
      "536/536 [==============================] - 2s 4ms/step - loss: 0.3758 - accuracy: 0.8380 - val_loss: 0.3714 - val_accuracy: 0.8395\n",
      "Epoch 96/100\n",
      "536/536 [==============================] - 2s 4ms/step - loss: 0.3698 - accuracy: 0.8446 - val_loss: 0.3655 - val_accuracy: 0.8448\n",
      "Epoch 97/100\n",
      "536/536 [==============================] - 2s 4ms/step - loss: 0.3755 - accuracy: 0.8418 - val_loss: 0.3714 - val_accuracy: 0.8368\n",
      "Epoch 98/100\n",
      "536/536 [==============================] - 2s 4ms/step - loss: 0.3772 - accuracy: 0.8418 - val_loss: 0.3692 - val_accuracy: 0.8463\n",
      "Epoch 99/100\n",
      "536/536 [==============================] - 2s 4ms/step - loss: 0.3691 - accuracy: 0.8466 - val_loss: 0.3702 - val_accuracy: 0.8421\n",
      "Epoch 100/100\n",
      "536/536 [==============================] - 2s 4ms/step - loss: 0.3699 - accuracy: 0.8451 - val_loss: 0.3687 - val_accuracy: 0.8440\n",
      "CPU times: total: 56.9 s\n",
      "Wall time: 3min 44s\n"
     ]
    }
   ],
   "source": [
    "%%time\n",
    "#fitting the ANN to the training set\n",
    "# model_history = classifier.fit(X_train, y_train, validation_split = 0.33, batch_size= 10, nb_epoch = 100)\n",
    "model_history = classifier.fit(X_train, y_train, validation_split = 0.33, batch_size= 10, epochs = 100)"
   ]
  },
  {
   "cell_type": "code",
   "execution_count": 21,
   "id": "ccc4b7c1",
   "metadata": {},
   "outputs": [
    {
     "name": "stdout",
     "output_type": "stream",
     "text": [
      "63/63 [==============================] - 0s 2ms/step\n"
     ]
    }
   ],
   "source": [
    "#Prediction on the test data\n",
    "y_pred = classifier.predict(X_test)\n",
    "y_pred = (y_pred > 0.5)"
   ]
  },
  {
   "cell_type": "code",
   "execution_count": 22,
   "id": "5d3f8231",
   "metadata": {},
   "outputs": [],
   "source": [
    "#making the confusion matrix\n",
    "from sklearn.metrics import confusion_matrix\n",
    "cm = confusion_matrix(y_test, y_pred)"
   ]
  },
  {
   "cell_type": "code",
   "execution_count": 24,
   "id": "c16eac29",
   "metadata": {},
   "outputs": [
    {
     "data": {
      "text/plain": [
       "array([[1582,   13],\n",
       "       [ 273,  132]], dtype=int64)"
      ]
     },
     "execution_count": 24,
     "metadata": {},
     "output_type": "execute_result"
    }
   ],
   "source": [
    "cm"
   ]
  },
  {
   "cell_type": "code",
   "execution_count": 25,
   "id": "51541dfc",
   "metadata": {},
   "outputs": [],
   "source": [
    "#before using dropout the accuracy was around 86% \n",
    "#use dropout only if there huge data and we have to create a deep neural network."
   ]
  },
  {
   "cell_type": "code",
   "execution_count": 26,
   "id": "5f9e51fb",
   "metadata": {},
   "outputs": [],
   "source": [
    "#calculate the accuracy\n",
    "from sklearn.metrics import accuracy_score\n",
    "score = accuracy_score(y_pred, y_test)"
   ]
  },
  {
   "cell_type": "code",
   "execution_count": 27,
   "id": "d4e93423",
   "metadata": {},
   "outputs": [
    {
     "data": {
      "text/plain": [
       "0.857"
      ]
     },
     "execution_count": 27,
     "metadata": {},
     "output_type": "execute_result"
    }
   ],
   "source": [
    "score"
   ]
  },
  {
   "cell_type": "markdown",
   "id": "696de9c9",
   "metadata": {},
   "source": [
    "##### the training, validation and test accuracy are almost same"
   ]
  },
  {
   "cell_type": "code",
   "execution_count": 29,
   "id": "765923de",
   "metadata": {},
   "outputs": [
    {
     "name": "stdout",
     "output_type": "stream",
     "text": [
      "dict_keys(['loss', 'accuracy', 'val_loss', 'val_accuracy'])\n"
     ]
    }
   ],
   "source": [
    "print(model_history.history.keys())"
   ]
  },
  {
   "cell_type": "code",
   "execution_count": 35,
   "id": "dad68992",
   "metadata": {},
   "outputs": [
    {
     "data": {
      "image/png": "[encoded data removed]",
      "text/plain": [
       "<Figure size 640x480 with 1 Axes>"
      ]
     },
     "metadata": {},
     "output_type": "display_data"
    }
   ],
   "source": [
    "#summarize history for accuracy\n",
    "plt.plot(model_history.history['accuracy'])\n",
    "plt.plot(model_history.history['val_accuracy'])\n",
    "plt.title(\"model accuracy\")\n",
    "plt.ylabel(\"accuracy\")\n",
    "plt.xlabel(\"epoch\")\n",
    "plt.legend(['train','test'], loc= 'upper left')\n",
    "plt.show()"
   ]
  },
  {
   "cell_type": "code",
   "execution_count": 37,
   "id": "314424df",
   "metadata": {},
   "outputs": [
    {
     "data": {
      "image/png": "[encoded data removed]",
      "text/plain": [
       "<Figure size 640x480 with 1 Axes>"
      ]
     },
     "metadata": {},
     "output_type": "display_data"
    }
   ],
   "source": [
    "#summarize history for loss\n",
    "plt.plot(model_history.history['loss'])\n",
    "plt.plot(model_history.history['val_loss'])\n",
    "plt.title(\"model loss\")\n",
    "plt.ylabel(\"loss\")\n",
    "plt.xlabel(\"epoch\")\n",
    "plt.legend(['train','test'], loc= 'upper left')\n",
    "plt.show()"
   ]
  }
 ],
 "metadata": {
  "kernelspec": {
   "display_name": "Python 3 (ipykernel)",
   "language": "python",
   "name": "python3"
  },
  "language_info": {
   "codemirror_mode": {
    "name": "ipython",
    "version": 3
   },
   "file_extension": ".py",
   "mimetype": "text/x-python",
   "name": "python",
   "nbconvert_exporter": "python",
   "pygments_lexer": "ipython3",
   "version": "3.10.9"
  }
 },
 "nbformat": 4,
 "nbformat_minor": 5
}
